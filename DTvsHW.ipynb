{
 "cells": [
  {
   "cell_type": "markdown",
   "metadata": {
    "id": "3DR-eO17geWu"
   },
   "source": [
    "# Convolutional Neural Network"
   ]
  },
  {
   "cell_type": "markdown",
   "metadata": {
    "id": "EMefrVPCg-60"
   },
   "source": [
    "### Importing the libraries"
   ]
  },
  {
   "cell_type": "code",
   "execution_count": 1,
   "metadata": {
    "id": "qSoim6ATq6Pq"
   },
   "outputs": [],
   "source": [
    "import numpy as np\n",
    "import pandas as pd\n",
    "import tensorflow as tf\n",
    "from keras.preprocessing.image import ImageDataGenerator\n",
    "import keras as kr"
   ]
  },
  {
   "cell_type": "code",
   "execution_count": 2,
   "metadata": {
    "colab": {
     "base_uri": "https://localhost:8080/",
     "height": 35
    },
    "id": "N8UWh4_crPiY",
    "outputId": "4147d3e5-5036-4aeb-e11f-18f90baad920"
   },
   "outputs": [
    {
     "data": {
      "text/plain": [
       "'2.15.0'"
      ]
     },
     "execution_count": 2,
     "metadata": {},
     "output_type": "execute_result"
    }
   ],
   "source": [
    "\n",
    "kr.__version__"
   ]
  },
  {
   "cell_type": "markdown",
   "metadata": {
    "id": "oxQxCBWyoGPE"
   },
   "source": [
    "## Part 1 - Data Preprocessing"
   ]
  },
  {
   "cell_type": "markdown",
   "metadata": {
    "id": "MvE-heJNo3GG"
   },
   "source": [
    "### Preprocessing the Training set"
   ]
  },
  {
   "cell_type": "code",
   "execution_count": 3,
   "metadata": {
    "colab": {
     "base_uri": "https://localhost:8080/",
     "height": 504
    },
    "id": "KyZTY8WNsZhd",
    "outputId": "4496077e-ac0f-416c-afbc-c018eb1cdb98"
   },
   "outputs": [
    {
     "name": "stdout",
     "output_type": "stream",
     "text": [
      "Found 282 images belonging to 2 classes.\n"
     ]
    }
   ],
   "source": [
    "train_datagen=ImageDataGenerator(\n",
    "    rescale=1./255,\n",
    "    shear_range=0.2,\n",
    "    zoom_range=0.2,\n",
    "    horizontal_flip=True)\n",
    "\n",
    "training_set=train_datagen.flow_from_directory(\n",
    "    '/Users/rahul/Downloads/HWvsDT/training_dataset',\n",
    "     target_size=(300,128),\n",
    "     batch_size=32,\n",
    "     class_mode='binary')\n"
   ]
  },
  {
   "cell_type": "markdown",
   "metadata": {
    "id": "mrCMmGw9pHys"
   },
   "source": [
    "### Preprocessing the Test set"
   ]
  },
  {
   "cell_type": "code",
   "execution_count": 4,
   "metadata": {
    "id": "qInrX3vWt1-G"
   },
   "outputs": [
    {
     "name": "stdout",
     "output_type": "stream",
     "text": [
      "Found 23 images belonging to 2 classes.\n"
     ]
    }
   ],
   "source": [
    "test_datagen=ImageDataGenerator(rescale=1./255)\n",
    "\n",
    "test_set=test_datagen.flow_from_directory(\n",
    "    '/Users/rahul/Downloads/HWvsDT/test_dataset',\n",
    "    target_size=(300,128),\n",
    "    batch_size=32,\n",
    "    class_mode='binary'\n",
    ")"
   ]
  },
  {
   "cell_type": "markdown",
   "metadata": {
    "id": "af8O4l90gk7B"
   },
   "source": [
    "## Part 2 - Building the CNN"
   ]
  },
  {
   "cell_type": "markdown",
   "metadata": {
    "id": "ces1gXY2lmoX"
   },
   "source": [
    "### Initialising the CNN"
   ]
  },
  {
   "cell_type": "code",
   "execution_count": 5,
   "metadata": {
    "id": "Tb44bGqXuxiK"
   },
   "outputs": [],
   "source": [
    "cnn=tf.keras.models.Sequential()"
   ]
  },
  {
   "cell_type": "markdown",
   "metadata": {
    "id": "u5YJj_XMl5LF"
   },
   "source": [
    "### Step 1 - Convolution"
   ]
  },
  {
   "cell_type": "code",
   "execution_count": 6,
   "metadata": {
    "id": "uEdqSJ-ou7zh"
   },
   "outputs": [],
   "source": [
    "cnn.add(tf.keras.layers.Conv2D(filters=32,kernel_size=3,activation='relu',input_shape=[300,128,3]))"
   ]
  },
  {
   "cell_type": "markdown",
   "metadata": {
    "id": "tf87FpvxmNOJ"
   },
   "source": [
    "### Step 2 - Pooling"
   ]
  },
  {
   "cell_type": "code",
   "execution_count": 7,
   "metadata": {
    "id": "lULcOdoSvvwo"
   },
   "outputs": [],
   "source": [
    "cnn.add(tf.keras.layers.MaxPool2D(pool_size=2,strides=2))"
   ]
  },
  {
   "cell_type": "markdown",
   "metadata": {
    "id": "xaTOgD8rm4mU"
   },
   "source": [
    "### Adding a second convolutional layer"
   ]
  },
  {
   "cell_type": "code",
   "execution_count": 8,
   "metadata": {
    "id": "L2Yjp4jSwZjA"
   },
   "outputs": [],
   "source": [
    "cnn.add(tf.keras.layers.Conv2D(filters=32,kernel_size=3,activation='relu'))\n",
    "cnn.add(tf.keras.layers.MaxPool2D(pool_size=2,strides=2))"
   ]
  },
  {
   "cell_type": "markdown",
   "metadata": {
    "id": "tmiEuvTunKfk"
   },
   "source": [
    "### Step 3 - Flattening"
   ]
  },
  {
   "cell_type": "code",
   "execution_count": 9,
   "metadata": {
    "id": "w_LuYDvkwvzz"
   },
   "outputs": [],
   "source": [
    "cnn.add(tf.keras.layers.Flatten())"
   ]
  },
  {
   "cell_type": "markdown",
   "metadata": {
    "id": "dAoSECOm203v"
   },
   "source": [
    "### Step 4 - Full Connection"
   ]
  },
  {
   "cell_type": "code",
   "execution_count": 10,
   "metadata": {
    "id": "f_Htrr9fw8Q5"
   },
   "outputs": [],
   "source": [
    "cnn.add(tf.keras.layers.Dense(units=128,activation='relu'))"
   ]
  },
  {
   "cell_type": "markdown",
   "metadata": {
    "id": "yTldFvbX28Na"
   },
   "source": [
    "### Step 5 - Output Layer"
   ]
  },
  {
   "cell_type": "code",
   "execution_count": 11,
   "metadata": {
    "id": "OFYRU_p_xa2F"
   },
   "outputs": [],
   "source": [
    "cnn.add(tf.keras.layers.Dense(units=1,activation='sigmoid'))"
   ]
  },
  {
   "cell_type": "markdown",
   "metadata": {
    "id": "D6XkI90snSDl"
   },
   "source": [
    "## Part 3 - Training the CNN"
   ]
  },
  {
   "cell_type": "markdown",
   "metadata": {
    "id": "vfrFQACEnc6i"
   },
   "source": [
    "### Compiling the CNN"
   ]
  },
  {
   "cell_type": "code",
   "execution_count": 12,
   "metadata": {
    "id": "pjn8ucJPyCLT"
   },
   "outputs": [],
   "source": [
    "cnn.compile(optimizer='adam',loss='binary_crossentropy',metrics=['accuracy'])"
   ]
  },
  {
   "cell_type": "markdown",
   "metadata": {
    "id": "ehS-v3MIpX2h"
   },
   "source": [
    "### Training the CNN on the Training set and evaluating it on the Test set"
   ]
  },
  {
   "cell_type": "code",
   "execution_count": 13,
   "metadata": {
    "id": "ZIofDRrqyXO2"
   },
   "outputs": [
    {
     "name": "stdout",
     "output_type": "stream",
     "text": [
      "Epoch 1/25\n",
      "9/9 [==============================] - 2s 235ms/step - loss: 2.4179 - accuracy: 0.5142 - val_loss: 0.5825 - val_accuracy: 0.6087\n",
      "Epoch 2/25\n",
      "9/9 [==============================] - 2s 214ms/step - loss: 0.6152 - accuracy: 0.6312 - val_loss: 0.4533 - val_accuracy: 0.8696\n",
      "Epoch 3/25\n",
      "9/9 [==============================] - 2s 222ms/step - loss: 0.5501 - accuracy: 0.6986 - val_loss: 0.4044 - val_accuracy: 0.8696\n",
      "Epoch 4/25\n",
      "9/9 [==============================] - 2s 216ms/step - loss: 0.5464 - accuracy: 0.6950 - val_loss: 0.3567 - val_accuracy: 0.8696\n",
      "Epoch 5/25\n",
      "9/9 [==============================] - 2s 212ms/step - loss: 0.5299 - accuracy: 0.7376 - val_loss: 0.4082 - val_accuracy: 0.7391\n",
      "Epoch 6/25\n",
      "9/9 [==============================] - 2s 211ms/step - loss: 0.4407 - accuracy: 0.8723 - val_loss: 0.3048 - val_accuracy: 0.8261\n",
      "Epoch 7/25\n",
      "9/9 [==============================] - 2s 212ms/step - loss: 0.4313 - accuracy: 0.7766 - val_loss: 0.2814 - val_accuracy: 0.8261\n",
      "Epoch 8/25\n",
      "9/9 [==============================] - 2s 215ms/step - loss: 0.4588 - accuracy: 0.7092 - val_loss: 0.2576 - val_accuracy: 0.8696\n",
      "Epoch 9/25\n",
      "9/9 [==============================] - 2s 215ms/step - loss: 0.4590 - accuracy: 0.8440 - val_loss: 0.6802 - val_accuracy: 0.7391\n",
      "Epoch 10/25\n",
      "9/9 [==============================] - 2s 213ms/step - loss: 0.4797 - accuracy: 0.7979 - val_loss: 0.2731 - val_accuracy: 0.8696\n",
      "Epoch 11/25\n",
      "9/9 [==============================] - 2s 216ms/step - loss: 0.3305 - accuracy: 0.8901 - val_loss: 0.2262 - val_accuracy: 0.8696\n",
      "Epoch 12/25\n",
      "9/9 [==============================] - 2s 214ms/step - loss: 0.3966 - accuracy: 0.8191 - val_loss: 0.3119 - val_accuracy: 0.8696\n",
      "Epoch 13/25\n",
      "9/9 [==============================] - 2s 215ms/step - loss: 0.4437 - accuracy: 0.7801 - val_loss: 0.2057 - val_accuracy: 0.9130\n",
      "Epoch 14/25\n",
      "9/9 [==============================] - 2s 219ms/step - loss: 0.3025 - accuracy: 0.8723 - val_loss: 0.2557 - val_accuracy: 0.8696\n",
      "Epoch 15/25\n",
      "9/9 [==============================] - 2s 221ms/step - loss: 0.2884 - accuracy: 0.9184 - val_loss: 0.2111 - val_accuracy: 0.9130\n",
      "Epoch 16/25\n",
      "9/9 [==============================] - 2s 213ms/step - loss: 0.2299 - accuracy: 0.9220 - val_loss: 0.1047 - val_accuracy: 0.9565\n",
      "Epoch 17/25\n",
      "9/9 [==============================] - 2s 217ms/step - loss: 0.1651 - accuracy: 0.9574 - val_loss: 0.0958 - val_accuracy: 0.9565\n",
      "Epoch 18/25\n",
      "9/9 [==============================] - 2s 214ms/step - loss: 0.2868 - accuracy: 0.8759 - val_loss: 0.6554 - val_accuracy: 0.7826\n",
      "Epoch 19/25\n",
      "9/9 [==============================] - 2s 219ms/step - loss: 0.3202 - accuracy: 0.8582 - val_loss: 0.2342 - val_accuracy: 0.8696\n",
      "Epoch 20/25\n",
      "9/9 [==============================] - 2s 217ms/step - loss: 0.2038 - accuracy: 0.9397 - val_loss: 0.2169 - val_accuracy: 0.8696\n",
      "Epoch 21/25\n",
      "9/9 [==============================] - 2s 219ms/step - loss: 0.2284 - accuracy: 0.9326 - val_loss: 0.1178 - val_accuracy: 0.9565\n",
      "Epoch 22/25\n",
      "9/9 [==============================] - 2s 221ms/step - loss: 0.1480 - accuracy: 0.9645 - val_loss: 0.0996 - val_accuracy: 0.9565\n",
      "Epoch 23/25\n",
      "9/9 [==============================] - 2s 223ms/step - loss: 0.1842 - accuracy: 0.9220 - val_loss: 0.0628 - val_accuracy: 0.9565\n",
      "Epoch 24/25\n",
      "9/9 [==============================] - 2s 222ms/step - loss: 0.1612 - accuracy: 0.9433 - val_loss: 0.0558 - val_accuracy: 1.0000\n",
      "Epoch 25/25\n",
      "9/9 [==============================] - 2s 230ms/step - loss: 0.1804 - accuracy: 0.9149 - val_loss: 0.0415 - val_accuracy: 1.0000\n"
     ]
    },
    {
     "data": {
      "text/plain": [
       "<keras.src.callbacks.History at 0x15e0e5a50>"
      ]
     },
     "execution_count": 13,
     "metadata": {},
     "output_type": "execute_result"
    }
   ],
   "source": [
    "cnn.fit(x = training_set, validation_data = test_set, epochs = 25)"
   ]
  },
  {
   "cell_type": "markdown",
   "metadata": {
    "id": "U3PZasO0006Z"
   },
   "source": [
    "## Part 4 - Making a single prediction"
   ]
  },
  {
   "cell_type": "code",
   "execution_count": 37,
   "metadata": {
    "id": "z7NTE0bNzNLP"
   },
   "outputs": [
    {
     "name": "stdout",
     "output_type": "stream",
     "text": [
      "1/1 [==============================] - 0s 19ms/step\n"
     ]
    }
   ],
   "source": [
    "import numpy as np\n",
    "from keras.preprocessing import image\n",
    "test_image=image.load_img('/Users/rahul/Downloads/HWvsDT/training_dataset/HW/10.jpg',target_size=(64,64))\n",
    "test_image=image.img_to_array(test_image)\n",
    "test_image=np.expand_dims(test_image,axis=0)\n",
    "result=cnn.predict(test_image)\n",
    "\n",
    "if result[0][0]==1:\n",
    "      prediction='HW'\n",
    "else:\n",
    "      prediction='DT'"
   ]
  },
  {
   "cell_type": "code",
   "execution_count": 38,
   "metadata": {
    "id": "lF5UeXi32Dc6"
   },
   "outputs": [
    {
     "name": "stdout",
     "output_type": "stream",
     "text": [
      "DT\n"
     ]
    }
   ],
   "source": [
    "print(prediction)"
   ]
  },
  {
   "cell_type": "code",
   "execution_count": null,
   "metadata": {},
   "outputs": [],
   "source": [
    "import joblib\n",
    "joblib.dump(cnn,'/Users/rahul/Downloads/IAM_Words/DTvsHW_Mode1112l')"
   ]
  }
 ],
 "metadata": {
  "colab": {
   "provenance": []
  },
  "kernelspec": {
   "display_name": "Python 3 (ipykernel)",
   "language": "python",
   "name": "python3"
  },
  "language_info": {
   "codemirror_mode": {
    "name": "ipython",
    "version": 3
   },
   "file_extension": ".py",
   "mimetype": "text/x-python",
   "name": "python",
   "nbconvert_exporter": "python",
   "pygments_lexer": "ipython3",
   "version": "3.11.5"
  }
 },
 "nbformat": 4,
 "nbformat_minor": 1
}
